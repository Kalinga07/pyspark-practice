{
 "cells": [
  {
   "cell_type": "markdown",
   "id": "1ea66cd255bd08ce",
   "metadata": {},
   "source": [
    "**SOURCE/INPUT**"
   ]
  },
  {
   "cell_type": "code",
   "execution_count": 9,
   "id": "c44cece5",
   "metadata": {},
   "outputs": [
    {
     "name": "stdout",
     "output_type": "stream",
     "text": [
      "Initial DataFrame:\n",
      "+----------+--------+----------+\n",
      "|product_id|low_fats|recyclable|\n",
      "+----------+--------+----------+\n",
      "|         0|       Y|         N|\n",
      "|         1|       Y|         Y|\n",
      "|         2|       N|         Y|\n",
      "|         3|       Y|         Y|\n",
      "|         4|       N|         N|\n",
      "+----------+--------+----------+\n",
      "\n",
      "Output DataFrame after filtering:\n",
      "+----------+\n",
      "|product_id|\n",
      "+----------+\n",
      "|         1|\n",
      "|         3|\n",
      "+----------+\n",
      "\n"
     ]
    }
   ],
   "source": [
    "from pyspark.sql import SparkSession\n",
    "from pyspark import SparkContext\n",
    "\n",
    "# Step 0: Stop any existing SparkContext to avoid conflict\n",
    "try:\n",
    "    if SparkContext._active_spark_context:\n",
    "        print(\"Stopping existing SparkContext...\")\n",
    "        SparkContext._active_spark_context.stop()\n",
    "except Exception as e:\n",
    "    print(f\"Error stopping SparkContext: {e}\")\n",
    "\n",
    "# Step 1: Create new SparkSession\n",
    "spark = SparkSession.builder \\\n",
    "    .appName(\"leetcode\") \\\n",
    "    .master(\"local[*]\") \\\n",
    "    .getOrCreate()\n",
    "\n",
    "spark.sparkContext.setLogLevel(\"ERROR\")  # optional: silence logs\n",
    "\n",
    "# Step 2: Example DataFrame\n",
    "input_data = [['0', 'Y', 'N'], ['1', 'Y', 'Y'], ['2', 'N', 'Y'], ['3', 'Y', 'Y'], ['4', 'N', 'N']]\n",
    "schema=['product_id', 'low_fats', 'recyclable']\n",
    "\n",
    "df = spark.createDataFrame(input_data, schema=schema)\n",
    "print(\"Initial DataFrame:\")\n",
    "df.show()\n",
    "# Step 3: Filter DataFrame\n",
    "filtered_df = df.filter((df.low_fats==\"Y\")&(df.recyclable==\"Y\"))\n",
    "\n",
    "print(\"Output DataFrame after filtering:\")\n",
    "\n",
    "filtered_df.select(\"product_id\").show()\n",
    "spark.stop()\n"
   ]
  }
 ],
 "metadata": {
  "kernelspec": {
   "display_name": "spark_env",
   "language": "python",
   "name": "python3"
  },
  "language_info": {
   "codemirror_mode": {
    "name": "ipython",
    "version": 3
   },
   "file_extension": ".py",
   "mimetype": "text/x-python",
   "name": "python",
   "nbconvert_exporter": "python",
   "pygments_lexer": "ipython3",
   "version": "3.10.18"
  }
 },
 "nbformat": 4,
 "nbformat_minor": 5
}
