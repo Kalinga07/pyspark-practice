{
 "cells": [
  {
   "cell_type": "code",
   "execution_count": 20,
   "id": "c3f6dbad",
   "metadata": {},
   "outputs": [],
   "source": [
    "import pyspark.sql.functions as F\n",
    "from pyspark.sql.types import StructType,StructField, StringType, IntegerType\n",
    "from pyspark.sql import SparkSession"
   ]
  },
  {
   "cell_type": "code",
   "execution_count": 3,
   "id": "2219f874",
   "metadata": {},
   "outputs": [
    {
     "name": "stderr",
     "output_type": "stream",
     "text": [
      "Setting default log level to \"WARN\".\n",
      "To adjust logging level use sc.setLogLevel(newLevel). For SparkR, use setLogLevel(newLevel).\n",
      "25/06/24 22:48:46 WARN NativeCodeLoader: Unable to load native-hadoop library for your platform... using builtin-java classes where applicable\n",
      "25/06/24 22:48:46 WARN Utils: Service 'SparkUI' could not bind on port 4040. Attempting port 4041.\n",
      "25/06/24 22:48:46 WARN Utils: Service 'SparkUI' could not bind on port 4041. Attempting port 4042.\n"
     ]
    }
   ],
   "source": [
    "spark=SparkSession.builder \\\n",
    "    .appName(\"LeetCode SQL Problem\") \\\n",
    "    .getOrCreate()"
   ]
  },
  {
   "cell_type": "code",
   "execution_count": 12,
   "id": "a09142db",
   "metadata": {},
   "outputs": [
    {
     "name": "stdout",
     "output_type": "stream",
     "text": [
      "Employees DataFrame:\n",
      "\n",
      "+---+--------+\n",
      "| id|    name|\n",
      "+---+--------+\n",
      "|  1|   Alice|\n",
      "|  7|     Bob|\n",
      "| 11|    Meir|\n",
      "| 90| Winston|\n",
      "|  3|Jonathan|\n",
      "+---+--------+\n",
      "\n",
      "Employee Unique DataFrame:\n",
      "\n",
      "+---+---------+\n",
      "| id|unique_id|\n",
      "+---+---------+\n",
      "|  3|        1|\n",
      "| 11|        2|\n",
      "| 90|        3|\n",
      "+---+---------+\n",
      "\n"
     ]
    }
   ],
   "source": [
    "data = [[1, 'Alice'], [7, 'Bob'], [11, 'Meir'], [90, 'Winston'], [3, 'Jonathan']]\n",
    "employee_schema= StructType([\n",
    "    StructField('id', IntegerType(), True),\n",
    "    StructField('name', StringType(), True)\n",
    "])\n",
    "employees_df = spark.createDataFrame(data, schema=employee_schema)\n",
    "print(\"Employees DataFrame:\\n\")\n",
    "employees_df.show()\n",
    "datauni = [[3, 1], [11, 2], [90, 3]]\n",
    "employee_uni_schema=StructType([\n",
    "    StructField('id', IntegerType(), True),\n",
    "    StructField('unique_id', IntegerType(), True),\n",
    "])\n",
    "employee_uni_df = spark.createDataFrame(datauni, schema=employee_uni_schema)\n",
    "print(\"Employee Unique DataFrame:\\n\")\n",
    "employee_uni_df.show()"
   ]
  },
  {
   "cell_type": "code",
   "execution_count": null,
   "id": "b0831475",
   "metadata": {},
   "outputs": [
    {
     "name": "stdout",
     "output_type": "stream",
     "text": [
      "Output DataFrame:\n",
      "\n",
      "+----+--------+\n",
      "|  id|    name|\n",
      "+----+--------+\n",
      "|NULL|   Alice|\n",
      "|NULL|     Bob|\n",
      "|   2|    Meir|\n",
      "|   3| Winston|\n",
      "|   1|Jonathan|\n",
      "+----+--------+\n",
      "\n"
     ]
    }
   ],
   "source": [
    "output_df = employee_uni_df.join(\n",
    "    employees_df,\n",
    "    employee_uni_df.id == employees_df.id,\n",
    "    'right'  \n",
    ").select(\n",
    "    F.col('unique_id').alias('id'),\n",
    "    F.col('name').alias('name')\n",
    ")\n",
    "print(\"Output DataFrame:\\n\")\n",
    "output_df.show()"
   ]
  }
 ],
 "metadata": {
  "kernelspec": {
   "display_name": "spark_env",
   "language": "python",
   "name": "python3"
  },
  "language_info": {
   "codemirror_mode": {
    "name": "ipython",
    "version": 3
   },
   "file_extension": ".py",
   "mimetype": "text/x-python",
   "name": "python",
   "nbconvert_exporter": "python",
   "pygments_lexer": "ipython3",
   "version": "3.10.18"
  }
 },
 "nbformat": 4,
 "nbformat_minor": 5
}
