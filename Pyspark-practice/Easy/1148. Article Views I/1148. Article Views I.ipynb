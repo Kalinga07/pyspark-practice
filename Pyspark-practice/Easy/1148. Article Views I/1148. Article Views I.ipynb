{
 "cells": [
  {
   "cell_type": "code",
   "execution_count": 9,
   "id": "181fe3f3",
   "metadata": {},
   "outputs": [],
   "source": [
    "import pyspark.sql.functions as F\n",
    "from pyspark.sql import SparkSession\n",
    "from pyspark.sql.types import StructType,StructField,StringType,IntegerType\n",
    "\n",
    "spark=SparkSession.builder \\\n",
    "    .appName(\"LeeCode SQL 1148\") \\\n",
    "    .getOrCreate()\n"
   ]
  },
  {
   "cell_type": "code",
   "execution_count": 19,
   "id": "599aeeef",
   "metadata": {},
   "outputs": [
    {
     "name": "stdout",
     "output_type": "stream",
     "text": [
      "Input DataFrame:\n",
      "+----------+---------+---------+----------+\n",
      "|article_id|author_id|viewer_id| view_date|\n",
      "+----------+---------+---------+----------+\n",
      "|         1|        3|        5|2019-08-01|\n",
      "|         1|        3|        6|2019-08-02|\n",
      "|         2|        7|        7|2019-08-01|\n",
      "|         2|        7|        6|2019-08-02|\n",
      "|         4|        7|        1|2019-07-22|\n",
      "|         3|        4|        4|2019-07-21|\n",
      "|         3|        4|        4|2019-07-21|\n",
      "+----------+---------+---------+----------+\n",
      "\n",
      "Output DataFrame:\n",
      "+---+\n",
      "| id|\n",
      "+---+\n",
      "|  4|\n",
      "|  7|\n",
      "+---+\n",
      "\n"
     ]
    }
   ],
   "source": [
    "data = [[1, 3, 5, '2019-08-01'], [1, 3, 6, '2019-08-02'], [2, 7, 7, '2019-08-01'], [2, 7, 6, '2019-08-02'], [4, 7, 1, '2019-07-22'], [3, 4, 4, '2019-07-21'], [3, 4, 4, '2019-07-21']]\n",
    "\n",
    "views_schema= StructType([\n",
    "    StructField('article_id', IntegerType(), True),\n",
    "    StructField('author_id', IntegerType(), True),\n",
    "    StructField('viewer_id', IntegerType(), True),\n",
    "    StructField('view_date', StringType(), True)\n",
    "])\n",
    "print(\"Input DataFrame:\")\n",
    "input_df=spark.createDataFrame(data,schema=views_schema)\n",
    "input_df.show()\n",
    "\n",
    "# Solutions\n",
    "print(\"Output DataFrame:\")\n",
    "\n",
    "output_df= input_df.filter(\n",
    "    F.col('author_id') == F.col('viewer_id')).select(F.col('author_id').alias('id')).distinct().orderBy('id')\n",
    "\n",
    "output_df.show()"
   ]
  }
 ],
 "metadata": {
  "kernelspec": {
   "display_name": "spark_env",
   "language": "python",
   "name": "python3"
  },
  "language_info": {
   "codemirror_mode": {
    "name": "ipython",
    "version": 3
   },
   "file_extension": ".py",
   "mimetype": "text/x-python",
   "name": "python",
   "nbconvert_exporter": "python",
   "pygments_lexer": "ipython3",
   "version": "3.10.18"
  }
 },
 "nbformat": 4,
 "nbformat_minor": 5
}
