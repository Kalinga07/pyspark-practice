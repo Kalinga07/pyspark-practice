{
 "cells": [
  {
   "cell_type": "code",
   "execution_count": 4,
   "id": "5fa2ed28",
   "metadata": {},
   "outputs": [],
   "source": [
    "import pyspark.sql.functions as F\n",
    "from pyspark.sql.types import StructType,StructField, IntegerType\n",
    "from pyspark.sql import SparkSession"
   ]
  },
  {
   "cell_type": "code",
   "execution_count": 5,
   "id": "704bc2d5",
   "metadata": {},
   "outputs": [],
   "source": [
    "spark=SparkSession.builder \\\n",
    "    .appName(\"LeetCode SQL Problem\") \\\n",
    "    .getOrCreate()"
   ]
  },
  {
   "cell_type": "code",
   "execution_count": 10,
   "id": "a0815f80",
   "metadata": {},
   "outputs": [
    {
     "name": "stdout",
     "output_type": "stream",
     "text": [
      "Vistings DataFrame Schema:\n",
      "+--------+-----------+\n",
      "|visit_id|customer_id|\n",
      "+--------+-----------+\n",
      "|       1|         23|\n",
      "|       2|          9|\n",
      "|       4|         30|\n",
      "|       5|         54|\n",
      "|       6|         96|\n",
      "|       7|         54|\n",
      "|       8|         54|\n",
      "+--------+-----------+\n",
      "\n",
      "Transaction DataFrame Schema:\n",
      "+--------------+--------+------+\n",
      "|transaction_id|visit_id|amount|\n",
      "+--------------+--------+------+\n",
      "|             2|       5|   310|\n",
      "|             3|       5|   300|\n",
      "|             9|       5|   200|\n",
      "|            12|       1|   910|\n",
      "|            13|       2|   970|\n",
      "+--------------+--------+------+\n",
      "\n"
     ]
    }
   ],
   "source": [
    "data = [[1, 23], [2, 9], [4, 30], [5, 54], [6, 96], [7, 54], [8, 54]]\n",
    "visits_schema= StructType([\n",
    "    StructField(\"visit_id\", IntegerType(), True),\n",
    "    StructField(\"customer_id\", IntegerType(), True)\n",
    "    ])\n",
    "print(\"Vistings DataFrame Schema:\")\n",
    "input_df1 = spark.createDataFrame(data, schema=visits_schema)\n",
    "input_df1.show()\n",
    "\n",
    "data = [[2, 5, 310], [3, 5, 300], [9, 5, 200], [12, 1, 910], [13, 2, 970]]\n",
    "transactions_schema=StructType([\n",
    "    StructField(\"transaction_id\", IntegerType(), True),\n",
    "    StructField(\"visit_id\", IntegerType(), True),\n",
    "    StructField(\"amount\", IntegerType(), True)\n",
    "    ])\n",
    "print(\"Transaction DataFrame Schema:\")\n",
    "input_df2 = spark.createDataFrame(data, schema=transactions_schema)\n",
    "input_df2.show()"
   ]
  },
  {
   "cell_type": "code",
   "execution_count": 19,
   "id": "73f01b14",
   "metadata": {},
   "outputs": [
    {
     "name": "stdout",
     "output_type": "stream",
     "text": [
      "+-----------+--------+--------------+\n",
      "|customer_id|visit_id|transaction_id|\n",
      "+-----------+--------+--------------+\n",
      "|         23|       1|            12|\n",
      "|          9|       2|            13|\n",
      "|         54|       5|             2|\n",
      "|         54|       5|             3|\n",
      "|         54|       5|             9|\n",
      "+-----------+--------+--------------+\n",
      "\n"
     ]
    }
   ],
   "source": [
    "joined_df=input_df1.join(input_df2, input_df1.visit_id == input_df2.visit_id, \"inner\")\\\n",
    "    .select(input_df1.customer_id,input_df1.visit_id,input_df2.transaction_id)\n",
    "joined_df.show()"
   ]
  }
 ],
 "metadata": {
  "kernelspec": {
   "display_name": "spark_env",
   "language": "python",
   "name": "python3"
  },
  "language_info": {
   "codemirror_mode": {
    "name": "ipython",
    "version": 3
   },
   "file_extension": ".py",
   "mimetype": "text/x-python",
   "name": "python",
   "nbconvert_exporter": "python",
   "pygments_lexer": "ipython3",
   "version": "3.10.18"
  }
 },
 "nbformat": 4,
 "nbformat_minor": 5
}
