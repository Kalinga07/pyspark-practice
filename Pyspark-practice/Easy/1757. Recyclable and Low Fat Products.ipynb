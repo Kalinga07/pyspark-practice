{
 "cells": [
  {
   "metadata": {},
   "cell_type": "markdown",
   "source": "**SOURCE/INPUT**",
   "id": "1ea66cd255bd08ce"
  },
  {
   "metadata": {
    "ExecuteTime": {
     "end_time": "2025-06-21T15:25:20.679083Z",
     "start_time": "2025-06-21T15:25:20.672637Z"
    }
   },
   "cell_type": "code",
   "source": [
    "input_data = [['0', 'Y', 'N'], ['1', 'Y', 'Y'], ['2', 'N', 'Y'], ['3', 'Y', 'Y'], ['4', 'N', 'N']]\n",
    "schema=['product_id', 'low_fats', 'recyclable']"
   ],
   "id": "de7c5c491202ba8a",
   "outputs": [],
   "execution_count": 2
  },
  {
   "metadata": {
    "ExecuteTime": {
     "end_time": "2025-06-21T15:25:54.382645Z",
     "start_time": "2025-06-21T15:25:54.316562Z"
    }
   },
   "cell_type": "code",
   "source": "from pyspark.sql.functions import *",
   "id": "c8440b24a0da226d",
   "outputs": [
    {
     "ename": "ModuleNotFoundError",
     "evalue": "No module named 'pyspark'",
     "output_type": "error",
     "traceback": [
      "\u001B[31m---------------------------------------------------------------------------\u001B[39m",
      "\u001B[31mModuleNotFoundError\u001B[39m                       Traceback (most recent call last)",
      "\u001B[36mCell\u001B[39m\u001B[36m \u001B[39m\u001B[32mIn[3]\u001B[39m\u001B[32m, line 1\u001B[39m\n\u001B[32m----> \u001B[39m\u001B[32m1\u001B[39m \u001B[38;5;28;01mfrom\u001B[39;00m\u001B[38;5;250m \u001B[39m\u001B[34;01mpyspark\u001B[39;00m\u001B[34;01m.\u001B[39;00m\u001B[34;01msql\u001B[39;00m\u001B[34;01m.\u001B[39;00m\u001B[34;01mfunctions\u001B[39;00m\u001B[38;5;250m \u001B[39m\u001B[38;5;28;01mimport\u001B[39;00m *\n",
      "\u001B[31mModuleNotFoundError\u001B[39m: No module named 'pyspark'"
     ]
    }
   ],
   "execution_count": 3
  }
 ],
 "metadata": {
  "kernelspec": {
   "display_name": "Python 3",
   "language": "python",
   "name": "python3"
  },
  "language_info": {
   "codemirror_mode": {
    "name": "ipython",
    "version": 2
   },
   "file_extension": ".py",
   "mimetype": "text/x-python",
   "name": "python",
   "nbconvert_exporter": "python",
   "pygments_lexer": "ipython2",
   "version": "2.7.6"
  }
 },
 "nbformat": 4,
 "nbformat_minor": 5
}
